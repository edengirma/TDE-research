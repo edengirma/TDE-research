{
 "cells": [
  {
   "cell_type": "code",
   "execution_count": null,
   "metadata": {
    "collapsed": false
   },
   "outputs": [],
   "source": [
    "#---------------------------------- IMPORTING!! ---------------------------------- \n",
    "\n",
    "%matplotlib notebook\n",
    "import rebound\n",
    "import numpy as np\n",
    "import sys\n",
    "from IPython.display import display, clear_output\n",
    "from math import sqrt, log10, sin, cos, atan\n",
    "import random as rnd\n",
    "import matplotlib.pyplot as plt\n",
    "import seaborn as sns\n",
    "sns.set(color_codes=True)\n",
    "from tqdm import tqdm\n",
    "from mpl_toolkits.mplot3d import Axes3D\n",
    "import pandas as pd"
   ]
  },
  {
   "cell_type": "code",
   "execution_count": null,
   "metadata": {
    "collapsed": false
   },
   "outputs": [],
   "source": [
    "#---------------------------------- INTEGRATING!! ---------------------------------- \n",
    "\n",
    "Nstars = 2\n",
    "\n",
    "# All distances in A.U.\n",
    "mh = 4.0e6\n",
    "mb = 3.76e9/mh\n",
    "md = 6.0e10/mh\n",
    "mha = 1.0e12/mh\n",
    "ab = 2.0e7\n",
    "rh = 4.125e9\n",
    "ad = 5.7e8\n",
    "bd = 6.2e7\n",
    "scale = 1.6e9\n",
    "\n",
    "# Galaxy potential taken from http://adsabs.harvard.edu/abs/2014ApJ...793..122K,\n",
    "# only using bulge + disk for now (need to add halo!).\n",
    "# Note: There is a typo in that paper where \"a_d\" is said to be 2750 kpc, it should be 2.75 kpc.\n",
    "\n",
    "def migrationAccel(reb_sim):\n",
    "    r = sqrt(ps[1].x**2+ps[1].y**2+ps[1].z**2)\n",
    "    rho2 = ps[1].x**2+ps[1].y**2\n",
    "    zbd = sqrt(ps[1].z**2+bd**2)\n",
    "    logterm = np.log(1.0+(r/rh))\n",
    "    rterm = (r+rh)*(r**2)\n",
    "    \n",
    "    if r < 0.01*rh:\n",
    "        ps[1].ax += -mb*ps[1].x/(r*(ab+r)**2) - md*ps[1].x/(rho2+(ad+zbd)**2)**1.5 \n",
    "        ps[1].ay += -mb*ps[1].y/(r*(ab+r)**2) - md*ps[1].y/(rho2+(ad+zbd)**2)**1.5\n",
    "        ps[1].az += -mb*ps[1].z/(r*(ab+r)**2) - md*ps[1].z*(ad+zbd)/(zbd*(rho2+(ad+zbd)**2)**1.5)\n",
    "    else: \n",
    "        ps[1].ax += -mb*ps[1].x/(r*(ab+r)**2) - md*ps[1].x/(rho2+(ad+zbd)**2)**1.5 + mha*ps[1].x*((logterm/r**3)-(1.0/rterm))\n",
    "        ps[1].ay += -mb*ps[1].y/(r*(ab+r)**2) - md*ps[1].y/(rho2+(ad+zbd)**2)**1.5 + mha*ps[1].y*((logterm/r**3)-(1.0/rterm))\n",
    "        ps[1].az += -mb*ps[1].y/(r*(ab+r)**2) - md*ps[1].y/(rho2+(ad+zbd)**2)**1.5 + mha*ps[1].z*((logterm/r**3)-(1.0/rterm))\n",
    "    \n",
    "t_start = 0\n",
    "t_end = 10000\n",
    "\n",
    "Nout = 100\n",
    "\n",
    "#nfrag = rnd.randint(100, 300)\n",
    "nfrag = 10\n",
    "\n",
    "posx = [[[] for y in range(nfrag)] for x in range(Nstars)]\n",
    "posy = [[[] for y in range(nfrag)] for x in range(Nstars)]\n",
    "posz = [[[] for y in range(nfrag)] for x in range(Nstars)]\n",
    "        \n",
    "for star in tqdm(range(Nstars)):\n",
    "    # Randomly drawn mass of star disrupted, fraction of star mass lost in disruption, \n",
    "    # number of fragments, and initial 3D angle of outgoing stellar debris\n",
    "\n",
    "    m_star = rnd.uniform(1,4) #between 1 and 4 solar masses\n",
    "    percentage_lost = rnd.random()\n",
    "    m_deb = m_star*percentage_lost\n",
    "    m_frag = m_deb/nfrag\n",
    "\n",
    "    # Velocities are set to be just a little bit hyperbolic.\n",
    "    vels = [sqrt(2.0 + 9.0e-5*(0.5 + float(x)/float(nfrag))) for x in range(nfrag)]\n",
    "    for i, vel in enumerate(vels):\n",
    "        # Set up simulation\n",
    "        sim = rebound.Simulation()\n",
    "        sim.integrator = \"ias15\"\n",
    "        sim.add(m=1.0)\n",
    "        angle = rnd.uniform(0., 2.*np.pi)\n",
    "        sim.add(m=0.0,x=0.0,y=sin(angle),z=cos(angle),vx=vel,vy=0.0,vz=0.0)\n",
    "        sim.N_active = 1\n",
    "        sim.additional_forces = migrationAccel\n",
    "\n",
    "        ps = sim.particles\n",
    "\n",
    "        times = np.linspace(0.0, 20.0*((ab)**(1.5)/sqrt(mb))*2.*np.pi, Nout)\n",
    "        for ti, time in enumerate(times):\n",
    "            #print(time)\n",
    "            sim.integrate(time, exact_finish_time=1)\n",
    "            posx[star][i].append(ps[1].x/scale)\n",
    "            posy[star][i].append(ps[1].y/scale)\n",
    "            posz[star][i].append(ps[1].z/scale)\n",
    "    \n",
    "    t_start += 10000\n",
    "    t_end += 10000\n"
   ]
  },
  {
   "cell_type": "code",
   "execution_count": null,
   "metadata": {
    "collapsed": false
   },
   "outputs": [],
   "source": [
    "print vels"
   ]
  },
  {
   "cell_type": "code",
   "execution_count": null,
   "metadata": {
    "collapsed": false
   },
   "outputs": [],
   "source": [
    "#---------------------------------- PLOTTING!! ---------------------------------- \n",
    "\n",
    "fig = plt.figure(figsize=(10,10))\n",
    "ax = fig.add_subplot(111, projection='3d')\n",
    "colors = sns.color_palette(\"hls\", Nstars).as_hex()\n",
    "for star in range(Nstars):\n",
    "    for i in range(nfrag):\n",
    "        ax.plot(posx[star][i],posy[star][i],posz[star][i], c = colors[star]);\n",
    "        ax.scatter([posx[star][i][-1]],[posy[star][i][-1]],[posz[star][i][-1]],c = colors[star]);"
   ]
  },
  {
   "cell_type": "code",
   "execution_count": null,
   "metadata": {
    "collapsed": false
   },
   "outputs": [],
   "source": [
    "#---------------------------------- VISUALIZING!! ---------------------------------- \n",
    "data = []\n",
    "for star in range(Nstars):\n",
    "    for i in range(nfrag):\n",
    "        end = len(posx[star][i])\n",
    "        point = [sqrt(posx[star][i][end - 1]**2 + posy[star][i][end - 1]**2), posz[star][i][end - 1]]\n",
    "        data.append(point)\n",
    "        \n",
    "fragdata = np.array([point for point in data])\n",
    "df = pd.DataFrame(fragdata, columns=[\"s\", \"z\"])\n",
    "\n",
    "#Scatter plots\n",
    "sns.jointplot(x=\"s\", y=\"z\", data=df);\n",
    "\n",
    "#Density plots\n",
    "# sns.jointplot(x=\"x\", y=\"y\", data=df, kind=\"kde\");\n",
    "g = sns.jointplot(x=\"s\", y=\"z\", data=df, kind=\"kde\", color=\"m\")\n",
    "g.plot_joint(plt.scatter, c=\"b\", s=10, marker=\"o\")\n",
    "g.ax_joint.collections[0].set_alpha(0)\n",
    "g.set_axis_labels(\"$S = X^2 + Y^2$\", \"$Z$\");"
   ]
  },
  {
   "cell_type": "code",
   "execution_count": null,
   "metadata": {
    "collapsed": true
   },
   "outputs": [],
   "source": []
  }
 ],
 "metadata": {
  "kernelspec": {
   "display_name": "Python 2",
   "language": "python",
   "name": "python2"
  },
  "language_info": {
   "codemirror_mode": {
    "name": "ipython",
    "version": 2
   },
   "file_extension": ".py",
   "mimetype": "text/x-python",
   "name": "python",
   "nbconvert_exporter": "python",
   "pygments_lexer": "ipython2",
   "version": "2.7.11"
  }
 },
 "nbformat": 4,
 "nbformat_minor": 0
}
